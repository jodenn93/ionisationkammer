{
 "cells": [
  {
   "attachments": {},
   "cell_type": "markdown",
   "metadata": {},
   "source": [
    "# Data Prep"
   ]
  },
  {
   "attachments": {},
   "cell_type": "markdown",
   "metadata": {},
   "source": [
    "Beschreibung:\n",
    "-   durch jede Ordner gehen und die relevanten Dateien einlesen\n",
    "-   pro Datei die Peak anhand der Counts identifizieren und in einem Dict schrieben\n",
    "-   dict in DataFrame packen und wegschreiben (1mal pro Ordner)"
   ]
  },
  {
   "cell_type": "code",
   "execution_count": 1,
   "metadata": {},
   "outputs": [],
   "source": [
    "import os\n",
    "import re\n",
    "import glob\n",
    "import pandas as pd\n",
    "import numpy as np"
   ]
  },
  {
   "cell_type": "code",
   "execution_count": 10,
   "metadata": {},
   "outputs": [
    {
     "data": {
      "text/plain": [
       "'/home/lentil93/Uni/RUB/Fortgeschrittene Praktika/319_ionisationskammerteleskope'"
      ]
     },
     "execution_count": 10,
     "metadata": {},
     "output_type": "execute_result"
    }
   ],
   "source": [
    "os.getcwd()"
   ]
  },
  {
   "cell_type": "code",
   "execution_count": 11,
   "metadata": {},
   "outputs": [
    {
     "name": "stdout",
     "output_type": "stream",
     "text": [
      "/home/lentil93/Uni/RUB/Fortgeschrittene Praktika/319_ionisationskammerteleskope/2022_12_07/aufgabe_2_messung\n",
      "/home/lentil93/Uni/RUB/Fortgeschrittene Praktika/319_ionisationskammerteleskope\n",
      "/home/lentil93/Uni/RUB/Fortgeschrittene Praktika/319_ionisationskammerteleskope/2022_12_07/aufgabe_2_kalibration\n",
      "/home/lentil93/Uni/RUB/Fortgeschrittene Praktika/319_ionisationskammerteleskope\n"
     ]
    }
   ],
   "source": [
    "l_modi = [\"2m\",\"2k\"]\n",
    "for modus in l_modi:\n",
    "    if modus == \"2k\":\n",
    "        os.chdir(\"./2022_12_07/aufgabe_2_kalibration/\")\n",
    "        cols = [\"zeitdelay\",\"spannung\"]\n",
    "    elif modus == \"2m\":\n",
    "        os.chdir(\"./2022_12_07/aufgabe_2_messung/\")\n",
    "        cols = [\"u_gitter\",\"spannung\"]\n",
    "        \n",
    "    #iterate thru files, fit gaussian curve, store in dictionary\n",
    "    #df_storage = pd.DataFrame(columns = cols)\n",
    "    dict_storage = {}\n",
    "    dict_results = {}\n",
    "\n",
    "    for file in glob.glob(\"*.txt\"):\n",
    "        dict_temp = {}\n",
    "        #print(file.split('.txt')[0])\n",
    "        with open(file, encoding='utf8') as f:\n",
    "                \n",
    "            # To store lines\n",
    "            \n",
    "            for i, line in enumerate(f):\n",
    "                #print(i)\n",
    "                # read line 4 and 7\n",
    "\n",
    "                if (i >9) & (i<=2057):\n",
    "                    words = line.strip().split(\"\\t\")\n",
    "                    \n",
    "                    dict_temp[words[0]] = words[1]\n",
    "                    #print(dict_temp)\n",
    "                #elif i > 2058:\n",
    "                    # don't read after line 7 to save time\n",
    "                    #break\n",
    "            #print(lines)\n",
    "\n",
    "\n",
    "\n",
    "\n",
    "\n",
    "            #for line in f:\n",
    "                #print(line.strip())\n",
    "        #df = pd.read_csv(file,sep=\";\")\n",
    "        #print(df)\n",
    "        df = pd.DataFrame(data = dict_temp.items(), columns=[\"Volts\",\"Events\"])\n",
    "        #df = pd.DataFrame.from_dict(dict_temp,orient = \"index\", columns =[\"Volts\",\"Events\"] )\n",
    "        df[\"Volts\"] = df[\"Volts\"].str.replace(\",\",\".\")\n",
    "        df[\"Events\"]= df[\"Events\"].str.replace(\",\",\".\")\n",
    "        #print(df)\n",
    "        for col in list(df.columns):\n",
    "            df[f\"{col}\"]= pd.to_numeric(df[f\"{col}\"],errors = 'coerce')\n",
    "        df.dropna(axis = 0, inplace =True)\n",
    "        #print(file.split('.txt')[0])\n",
    "        #print(df[\"Volts\"].where(df[\"Volts\"].eq(df[\"Events\"].max(1), axis=0)).stack())\n",
    "        l_max_volts = df.Volts.loc[df.Events == df.Events.max()].values\n",
    "        dict_results[f\"{file.split('.txt')[0]}\"] = np.mean(l_max_volts)\n",
    "\n",
    "    df_results = pd.DataFrame(data = dict_results.items(), columns=[\"U_gitter\",\"U_peak\"])\n",
    "    df_results.to_csv(\"./results.csv\",sep=\";\")\n",
    "    print(os.path.abspath(os.curdir))\n",
    "    os.chdir(\"../..\")\n",
    "    print(os.path.abspath(os.curdir))\n"
   ]
  },
  {
   "cell_type": "code",
   "execution_count": 9,
   "metadata": {},
   "outputs": [
    {
     "name": "stdout",
     "output_type": "stream",
     "text": [
      "/home/lentil93/Uni/RUB/Fortgeschrittene Praktika/319_ionisationskammerteleskope/2022_12_07/aufgabe_2_messung\n",
      "/home/lentil93/Uni/RUB/Fortgeschrittene Praktika/319_ionisationskammerteleskope\n"
     ]
    }
   ],
   "source": [
    "print(os.path.abspath(os.curdir))\n",
    "os.chdir(\"../..\")\n",
    "print(os.path.abspath(os.curdir))"
   ]
  },
  {
   "cell_type": "code",
   "execution_count": null,
   "metadata": {},
   "outputs": [],
   "source": []
  }
 ],
 "metadata": {
  "kernelspec": {
   "display_name": "Python 3",
   "language": "python",
   "name": "python3"
  },
  "language_info": {
   "codemirror_mode": {
    "name": "ipython",
    "version": 3
   },
   "file_extension": ".py",
   "mimetype": "text/x-python",
   "name": "python",
   "nbconvert_exporter": "python",
   "pygments_lexer": "ipython3",
   "version": "3.10.6 (main, Nov 14 2022, 16:10:14) [GCC 11.3.0]"
  },
  "orig_nbformat": 4,
  "vscode": {
   "interpreter": {
    "hash": "916dbcbb3f70747c44a77c7bcd40155683ae19c65e1c03b4aa3499c5328201f1"
   }
  }
 },
 "nbformat": 4,
 "nbformat_minor": 2
}
